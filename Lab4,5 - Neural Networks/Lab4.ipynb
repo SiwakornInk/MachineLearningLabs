{
 "cells": [
  {
   "cell_type": "markdown",
   "metadata": {},
   "source": [
    "<div style=\"background-color: #4CAF50; color: white; padding: 10px; border-radius: 5px; display: flex; align-items: center;\">\n",
    "    <h1 style=\"margin: 0 auto; font-size: 30px; font-weight: bold; font-family: Helvetica\">Lab4: โครงข่ายประสาทเทียม (Neural Networks)</h1>\n",
    "</div>"
   ]
  },
  {
   "cell_type": "markdown",
   "metadata": {},
   "source": [
    "<h1 style=\"font-size: 25px; font-weight: bold; font-family: Helvetica\">เครื่องมือที่จะใช้ใน Lab นี้:</h1>"
   ]
  },
  {
   "cell_type": "code",
   "execution_count": 1,
   "metadata": {},
   "outputs": [],
   "source": [
    "# นำเข้าไลบรารี numpy โดยตั้งชื่อว่า np\n",
    "import numpy as np\n",
    "# นำเข้าไลบรารี matplotlib โดยตั้งชื่อว่า plt\n",
    "import matplotlib.pyplot as plt\n",
    "# นำเข้าไลบรารี pandas โดยตั้งชื่อว่า pd\n",
    "import pandas as pd\n",
    "# นำเข้าไลบรารี seaborn โดยตั้งชื่อว่า sns\n",
    "import seaborn as sns"
   ]
  },
  {
   "cell_type": "markdown",
   "metadata": {},
   "source": [
    "<h1 style=\"font-size: 25px; font-weight: bold; font-family: Helvetica\">1. สำรวจและวิเคราะห์ข้อมูลเบื้องต้น (Exploratory Data Analysis: EDA)</h1>"
   ]
  },
  {
   "cell_type": "markdown",
   "metadata": {},
   "source": [
    "<h1 style=\"font-size: 18px;\">1.1 นำข้อมูลเข้า</h1>"
   ]
  },
  {
   "cell_type": "code",
   "execution_count": 2,
   "metadata": {},
   "outputs": [
    {
     "data": {
      "text/html": [
       "<div>\n",
       "<style scoped>\n",
       "    .dataframe tbody tr th:only-of-type {\n",
       "        vertical-align: middle;\n",
       "    }\n",
       "\n",
       "    .dataframe tbody tr th {\n",
       "        vertical-align: top;\n",
       "    }\n",
       "\n",
       "    .dataframe thead th {\n",
       "        text-align: right;\n",
       "    }\n",
       "</style>\n",
       "<table border=\"1\" class=\"dataframe\">\n",
       "  <thead>\n",
       "    <tr style=\"text-align: right;\">\n",
       "      <th></th>\n",
       "      <th>id</th>\n",
       "      <th>Area</th>\n",
       "      <th>MajorAxisLength</th>\n",
       "      <th>MinorAxisLength</th>\n",
       "      <th>Eccentricity</th>\n",
       "      <th>ConvexArea</th>\n",
       "      <th>EquivDiameter</th>\n",
       "      <th>Extent</th>\n",
       "      <th>Perimeter</th>\n",
       "      <th>Roundness</th>\n",
       "      <th>AspectRation</th>\n",
       "      <th>Class</th>\n",
       "    </tr>\n",
       "  </thead>\n",
       "  <tbody>\n",
       "    <tr>\n",
       "      <th>0</th>\n",
       "      <td>1</td>\n",
       "      <td>4537</td>\n",
       "      <td>92.229316</td>\n",
       "      <td>64.012769</td>\n",
       "      <td>0.719916</td>\n",
       "      <td>4677</td>\n",
       "      <td>76.004525</td>\n",
       "      <td>0.657536</td>\n",
       "      <td>273.085</td>\n",
       "      <td>0.764510</td>\n",
       "      <td>1.440796</td>\n",
       "      <td>1</td>\n",
       "    </tr>\n",
       "    <tr>\n",
       "      <th>1</th>\n",
       "      <td>2</td>\n",
       "      <td>2872</td>\n",
       "      <td>74.691881</td>\n",
       "      <td>51.400454</td>\n",
       "      <td>0.725553</td>\n",
       "      <td>3015</td>\n",
       "      <td>60.471018</td>\n",
       "      <td>0.713009</td>\n",
       "      <td>208.317</td>\n",
       "      <td>0.831658</td>\n",
       "      <td>1.453137</td>\n",
       "      <td>1</td>\n",
       "    </tr>\n",
       "    <tr>\n",
       "      <th>2</th>\n",
       "      <td>3</td>\n",
       "      <td>3048</td>\n",
       "      <td>76.293164</td>\n",
       "      <td>52.043491</td>\n",
       "      <td>0.731211</td>\n",
       "      <td>3132</td>\n",
       "      <td>62.296341</td>\n",
       "      <td>0.759153</td>\n",
       "      <td>210.012</td>\n",
       "      <td>0.868434</td>\n",
       "      <td>1.465950</td>\n",
       "      <td>1</td>\n",
       "    </tr>\n",
       "    <tr>\n",
       "      <th>3</th>\n",
       "      <td>4</td>\n",
       "      <td>3073</td>\n",
       "      <td>77.033628</td>\n",
       "      <td>51.928487</td>\n",
       "      <td>0.738639</td>\n",
       "      <td>3157</td>\n",
       "      <td>62.551300</td>\n",
       "      <td>0.783529</td>\n",
       "      <td>210.657</td>\n",
       "      <td>0.870203</td>\n",
       "      <td>1.483456</td>\n",
       "      <td>1</td>\n",
       "    </tr>\n",
       "    <tr>\n",
       "      <th>4</th>\n",
       "      <td>5</td>\n",
       "      <td>3693</td>\n",
       "      <td>85.124785</td>\n",
       "      <td>56.374021</td>\n",
       "      <td>0.749282</td>\n",
       "      <td>3802</td>\n",
       "      <td>68.571668</td>\n",
       "      <td>0.769375</td>\n",
       "      <td>230.332</td>\n",
       "      <td>0.874743</td>\n",
       "      <td>1.510000</td>\n",
       "      <td>1</td>\n",
       "    </tr>\n",
       "  </tbody>\n",
       "</table>\n",
       "</div>"
      ],
      "text/plain": [
       "   id  Area  MajorAxisLength  MinorAxisLength  Eccentricity  ConvexArea  \\\n",
       "0   1  4537        92.229316        64.012769      0.719916        4677   \n",
       "1   2  2872        74.691881        51.400454      0.725553        3015   \n",
       "2   3  3048        76.293164        52.043491      0.731211        3132   \n",
       "3   4  3073        77.033628        51.928487      0.738639        3157   \n",
       "4   5  3693        85.124785        56.374021      0.749282        3802   \n",
       "\n",
       "   EquivDiameter    Extent  Perimeter  Roundness  AspectRation  Class  \n",
       "0      76.004525  0.657536    273.085   0.764510      1.440796      1  \n",
       "1      60.471018  0.713009    208.317   0.831658      1.453137      1  \n",
       "2      62.296341  0.759153    210.012   0.868434      1.465950      1  \n",
       "3      62.551300  0.783529    210.657   0.870203      1.483456      1  \n",
       "4      68.571668  0.769375    230.332   0.874743      1.510000      1  "
      ]
     },
     "execution_count": 2,
     "metadata": {},
     "output_type": "execute_result"
    }
   ],
   "source": [
    "data = pd.read_csv('riceClassification.csv') # อ่านไฟล์ csv ชื่อ 'riceClassification.csv' เราจะได้ตารางของข้อมูล (dataframe) เก็บไว้ในตัวแปรชื่อ data\n",
    "data.head() # แสดงผล dataframe 5 แถวแรก"
   ]
  },
  {
   "cell_type": "markdown",
   "metadata": {},
   "source": [
    "<h1 style=\"font-size: 18px;\">1.2 สำรวจข้อมูล</h1>"
   ]
  },
  {
   "cell_type": "code",
   "execution_count": 3,
   "metadata": {},
   "outputs": [
    {
     "name": "stdout",
     "output_type": "stream",
     "text": [
      "<class 'pandas.core.frame.DataFrame'>\n",
      "RangeIndex: 18185 entries, 0 to 18184\n",
      "Data columns (total 12 columns):\n",
      " #   Column           Non-Null Count  Dtype  \n",
      "---  ------           --------------  -----  \n",
      " 0   id               18185 non-null  int64  \n",
      " 1   Area             18185 non-null  int64  \n",
      " 2   MajorAxisLength  18185 non-null  float64\n",
      " 3   MinorAxisLength  18185 non-null  float64\n",
      " 4   Eccentricity     18185 non-null  float64\n",
      " 5   ConvexArea       18185 non-null  int64  \n",
      " 6   EquivDiameter    18185 non-null  float64\n",
      " 7   Extent           18185 non-null  float64\n",
      " 8   Perimeter        18185 non-null  float64\n",
      " 9   Roundness        18185 non-null  float64\n",
      " 10  AspectRation     18185 non-null  float64\n",
      " 11  Class            18185 non-null  int64  \n",
      "dtypes: float64(8), int64(4)\n",
      "memory usage: 1.7 MB\n"
     ]
    }
   ],
   "source": [
    "data.info() # แสดงรายละเอียดของแต่ละคอลัมน์ใน data"
   ]
  },
  {
   "cell_type": "code",
   "execution_count": 4,
   "metadata": {},
   "outputs": [
    {
     "data": {
      "text/html": [
       "<div>\n",
       "<style scoped>\n",
       "    .dataframe tbody tr th:only-of-type {\n",
       "        vertical-align: middle;\n",
       "    }\n",
       "\n",
       "    .dataframe tbody tr th {\n",
       "        vertical-align: top;\n",
       "    }\n",
       "\n",
       "    .dataframe thead th {\n",
       "        text-align: right;\n",
       "    }\n",
       "</style>\n",
       "<table border=\"1\" class=\"dataframe\">\n",
       "  <thead>\n",
       "    <tr style=\"text-align: right;\">\n",
       "      <th></th>\n",
       "      <th>id</th>\n",
       "      <th>Area</th>\n",
       "      <th>MajorAxisLength</th>\n",
       "      <th>MinorAxisLength</th>\n",
       "      <th>Eccentricity</th>\n",
       "      <th>ConvexArea</th>\n",
       "      <th>EquivDiameter</th>\n",
       "      <th>Extent</th>\n",
       "      <th>Perimeter</th>\n",
       "      <th>Roundness</th>\n",
       "      <th>AspectRation</th>\n",
       "      <th>Class</th>\n",
       "    </tr>\n",
       "  </thead>\n",
       "  <tbody>\n",
       "    <tr>\n",
       "      <th>count</th>\n",
       "      <td>18185.000000</td>\n",
       "      <td>18185.000000</td>\n",
       "      <td>18185.000000</td>\n",
       "      <td>18185.000000</td>\n",
       "      <td>18185.000000</td>\n",
       "      <td>18185.000000</td>\n",
       "      <td>18185.000000</td>\n",
       "      <td>18185.000000</td>\n",
       "      <td>18185.000000</td>\n",
       "      <td>18185.000000</td>\n",
       "      <td>18185.000000</td>\n",
       "      <td>18185.000000</td>\n",
       "    </tr>\n",
       "    <tr>\n",
       "      <th>mean</th>\n",
       "      <td>9093.000000</td>\n",
       "      <td>7036.492989</td>\n",
       "      <td>151.680754</td>\n",
       "      <td>59.807851</td>\n",
       "      <td>0.915406</td>\n",
       "      <td>7225.817872</td>\n",
       "      <td>94.132952</td>\n",
       "      <td>0.616653</td>\n",
       "      <td>351.606949</td>\n",
       "      <td>0.707998</td>\n",
       "      <td>2.599081</td>\n",
       "      <td>0.549079</td>\n",
       "    </tr>\n",
       "    <tr>\n",
       "      <th>std</th>\n",
       "      <td>5249.701658</td>\n",
       "      <td>1467.197150</td>\n",
       "      <td>12.376402</td>\n",
       "      <td>10.061653</td>\n",
       "      <td>0.030575</td>\n",
       "      <td>1502.006571</td>\n",
       "      <td>9.906250</td>\n",
       "      <td>0.104389</td>\n",
       "      <td>29.500620</td>\n",
       "      <td>0.067310</td>\n",
       "      <td>0.434836</td>\n",
       "      <td>0.497599</td>\n",
       "    </tr>\n",
       "    <tr>\n",
       "      <th>min</th>\n",
       "      <td>1.000000</td>\n",
       "      <td>2522.000000</td>\n",
       "      <td>74.133114</td>\n",
       "      <td>34.409894</td>\n",
       "      <td>0.676647</td>\n",
       "      <td>2579.000000</td>\n",
       "      <td>56.666658</td>\n",
       "      <td>0.383239</td>\n",
       "      <td>197.015000</td>\n",
       "      <td>0.174590</td>\n",
       "      <td>1.358128</td>\n",
       "      <td>0.000000</td>\n",
       "    </tr>\n",
       "    <tr>\n",
       "      <th>25%</th>\n",
       "      <td>4547.000000</td>\n",
       "      <td>5962.000000</td>\n",
       "      <td>145.675910</td>\n",
       "      <td>51.393151</td>\n",
       "      <td>0.891617</td>\n",
       "      <td>6125.000000</td>\n",
       "      <td>87.126656</td>\n",
       "      <td>0.538530</td>\n",
       "      <td>333.990000</td>\n",
       "      <td>0.650962</td>\n",
       "      <td>2.208527</td>\n",
       "      <td>0.000000</td>\n",
       "    </tr>\n",
       "    <tr>\n",
       "      <th>50%</th>\n",
       "      <td>9093.000000</td>\n",
       "      <td>6660.000000</td>\n",
       "      <td>153.883750</td>\n",
       "      <td>55.724288</td>\n",
       "      <td>0.923259</td>\n",
       "      <td>6843.000000</td>\n",
       "      <td>92.085696</td>\n",
       "      <td>0.601194</td>\n",
       "      <td>353.088000</td>\n",
       "      <td>0.701941</td>\n",
       "      <td>2.602966</td>\n",
       "      <td>1.000000</td>\n",
       "    </tr>\n",
       "    <tr>\n",
       "      <th>75%</th>\n",
       "      <td>13639.000000</td>\n",
       "      <td>8423.000000</td>\n",
       "      <td>160.056214</td>\n",
       "      <td>70.156593</td>\n",
       "      <td>0.941372</td>\n",
       "      <td>8645.000000</td>\n",
       "      <td>103.559146</td>\n",
       "      <td>0.695664</td>\n",
       "      <td>373.003000</td>\n",
       "      <td>0.769280</td>\n",
       "      <td>2.964101</td>\n",
       "      <td>1.000000</td>\n",
       "    </tr>\n",
       "    <tr>\n",
       "      <th>max</th>\n",
       "      <td>18185.000000</td>\n",
       "      <td>10210.000000</td>\n",
       "      <td>183.211434</td>\n",
       "      <td>82.550762</td>\n",
       "      <td>0.966774</td>\n",
       "      <td>11008.000000</td>\n",
       "      <td>114.016559</td>\n",
       "      <td>0.886573</td>\n",
       "      <td>508.511000</td>\n",
       "      <td>0.904748</td>\n",
       "      <td>3.911845</td>\n",
       "      <td>1.000000</td>\n",
       "    </tr>\n",
       "  </tbody>\n",
       "</table>\n",
       "</div>"
      ],
      "text/plain": [
       "                 id          Area  MajorAxisLength  MinorAxisLength  \\\n",
       "count  18185.000000  18185.000000     18185.000000     18185.000000   \n",
       "mean    9093.000000   7036.492989       151.680754        59.807851   \n",
       "std     5249.701658   1467.197150        12.376402        10.061653   \n",
       "min        1.000000   2522.000000        74.133114        34.409894   \n",
       "25%     4547.000000   5962.000000       145.675910        51.393151   \n",
       "50%     9093.000000   6660.000000       153.883750        55.724288   \n",
       "75%    13639.000000   8423.000000       160.056214        70.156593   \n",
       "max    18185.000000  10210.000000       183.211434        82.550762   \n",
       "\n",
       "       Eccentricity    ConvexArea  EquivDiameter        Extent     Perimeter  \\\n",
       "count  18185.000000  18185.000000   18185.000000  18185.000000  18185.000000   \n",
       "mean       0.915406   7225.817872      94.132952      0.616653    351.606949   \n",
       "std        0.030575   1502.006571       9.906250      0.104389     29.500620   \n",
       "min        0.676647   2579.000000      56.666658      0.383239    197.015000   \n",
       "25%        0.891617   6125.000000      87.126656      0.538530    333.990000   \n",
       "50%        0.923259   6843.000000      92.085696      0.601194    353.088000   \n",
       "75%        0.941372   8645.000000     103.559146      0.695664    373.003000   \n",
       "max        0.966774  11008.000000     114.016559      0.886573    508.511000   \n",
       "\n",
       "          Roundness  AspectRation         Class  \n",
       "count  18185.000000  18185.000000  18185.000000  \n",
       "mean       0.707998      2.599081      0.549079  \n",
       "std        0.067310      0.434836      0.497599  \n",
       "min        0.174590      1.358128      0.000000  \n",
       "25%        0.650962      2.208527      0.000000  \n",
       "50%        0.701941      2.602966      1.000000  \n",
       "75%        0.769280      2.964101      1.000000  \n",
       "max        0.904748      3.911845      1.000000  "
      ]
     },
     "execution_count": 4,
     "metadata": {},
     "output_type": "execute_result"
    }
   ],
   "source": [
    "data.describe() # แสดงสถิติเบื้องต้นของแต่ละคอลัมน์ใน dataframe"
   ]
  },
  {
   "cell_type": "code",
   "execution_count": 5,
   "metadata": {},
   "outputs": [
    {
     "data": {
      "text/plain": [
       "id                 0\n",
       "Area               0\n",
       "MajorAxisLength    0\n",
       "MinorAxisLength    0\n",
       "Eccentricity       0\n",
       "ConvexArea         0\n",
       "EquivDiameter      0\n",
       "Extent             0\n",
       "Perimeter          0\n",
       "Roundness          0\n",
       "AspectRation       0\n",
       "Class              0\n",
       "dtype: int64"
      ]
     },
     "execution_count": 5,
     "metadata": {},
     "output_type": "execute_result"
    }
   ],
   "source": [
    "# ตรวจสอบข้อมูลที่หายไป\n",
    "data.isnull().sum()"
   ]
  },
  {
   "cell_type": "markdown",
   "metadata": {},
   "source": [
    "<h1 style=\"font-size: 18px;\">1.3 คัดเลือกข้อมูล (data cleaning)</h1>"
   ]
  },
  {
   "cell_type": "code",
   "execution_count": 6,
   "metadata": {},
   "outputs": [
    {
     "data": {
      "text/html": [
       "<div>\n",
       "<style scoped>\n",
       "    .dataframe tbody tr th:only-of-type {\n",
       "        vertical-align: middle;\n",
       "    }\n",
       "\n",
       "    .dataframe tbody tr th {\n",
       "        vertical-align: top;\n",
       "    }\n",
       "\n",
       "    .dataframe thead th {\n",
       "        text-align: right;\n",
       "    }\n",
       "</style>\n",
       "<table border=\"1\" class=\"dataframe\">\n",
       "  <thead>\n",
       "    <tr style=\"text-align: right;\">\n",
       "      <th></th>\n",
       "      <th>Area</th>\n",
       "      <th>MajorAxisLength</th>\n",
       "      <th>MinorAxisLength</th>\n",
       "      <th>Eccentricity</th>\n",
       "      <th>ConvexArea</th>\n",
       "      <th>EquivDiameter</th>\n",
       "      <th>Extent</th>\n",
       "      <th>Perimeter</th>\n",
       "      <th>Roundness</th>\n",
       "      <th>AspectRation</th>\n",
       "      <th>Class</th>\n",
       "    </tr>\n",
       "  </thead>\n",
       "  <tbody>\n",
       "    <tr>\n",
       "      <th>0</th>\n",
       "      <td>4537</td>\n",
       "      <td>92.229316</td>\n",
       "      <td>64.012769</td>\n",
       "      <td>0.719916</td>\n",
       "      <td>4677</td>\n",
       "      <td>76.004525</td>\n",
       "      <td>0.657536</td>\n",
       "      <td>273.085</td>\n",
       "      <td>0.764510</td>\n",
       "      <td>1.440796</td>\n",
       "      <td>1</td>\n",
       "    </tr>\n",
       "    <tr>\n",
       "      <th>1</th>\n",
       "      <td>2872</td>\n",
       "      <td>74.691881</td>\n",
       "      <td>51.400454</td>\n",
       "      <td>0.725553</td>\n",
       "      <td>3015</td>\n",
       "      <td>60.471018</td>\n",
       "      <td>0.713009</td>\n",
       "      <td>208.317</td>\n",
       "      <td>0.831658</td>\n",
       "      <td>1.453137</td>\n",
       "      <td>1</td>\n",
       "    </tr>\n",
       "    <tr>\n",
       "      <th>2</th>\n",
       "      <td>3048</td>\n",
       "      <td>76.293164</td>\n",
       "      <td>52.043491</td>\n",
       "      <td>0.731211</td>\n",
       "      <td>3132</td>\n",
       "      <td>62.296341</td>\n",
       "      <td>0.759153</td>\n",
       "      <td>210.012</td>\n",
       "      <td>0.868434</td>\n",
       "      <td>1.465950</td>\n",
       "      <td>1</td>\n",
       "    </tr>\n",
       "    <tr>\n",
       "      <th>3</th>\n",
       "      <td>3073</td>\n",
       "      <td>77.033628</td>\n",
       "      <td>51.928487</td>\n",
       "      <td>0.738639</td>\n",
       "      <td>3157</td>\n",
       "      <td>62.551300</td>\n",
       "      <td>0.783529</td>\n",
       "      <td>210.657</td>\n",
       "      <td>0.870203</td>\n",
       "      <td>1.483456</td>\n",
       "      <td>1</td>\n",
       "    </tr>\n",
       "    <tr>\n",
       "      <th>4</th>\n",
       "      <td>3693</td>\n",
       "      <td>85.124785</td>\n",
       "      <td>56.374021</td>\n",
       "      <td>0.749282</td>\n",
       "      <td>3802</td>\n",
       "      <td>68.571668</td>\n",
       "      <td>0.769375</td>\n",
       "      <td>230.332</td>\n",
       "      <td>0.874743</td>\n",
       "      <td>1.510000</td>\n",
       "      <td>1</td>\n",
       "    </tr>\n",
       "  </tbody>\n",
       "</table>\n",
       "</div>"
      ],
      "text/plain": [
       "   Area  MajorAxisLength  MinorAxisLength  Eccentricity  ConvexArea  \\\n",
       "0  4537        92.229316        64.012769      0.719916        4677   \n",
       "1  2872        74.691881        51.400454      0.725553        3015   \n",
       "2  3048        76.293164        52.043491      0.731211        3132   \n",
       "3  3073        77.033628        51.928487      0.738639        3157   \n",
       "4  3693        85.124785        56.374021      0.749282        3802   \n",
       "\n",
       "   EquivDiameter    Extent  Perimeter  Roundness  AspectRation  Class  \n",
       "0      76.004525  0.657536    273.085   0.764510      1.440796      1  \n",
       "1      60.471018  0.713009    208.317   0.831658      1.453137      1  \n",
       "2      62.296341  0.759153    210.012   0.868434      1.465950      1  \n",
       "3      62.551300  0.783529    210.657   0.870203      1.483456      1  \n",
       "4      68.571668  0.769375    230.332   0.874743      1.510000      1  "
      ]
     },
     "execution_count": 6,
     "metadata": {},
     "output_type": "execute_result"
    }
   ],
   "source": [
    "data = data.drop('id', axis=1) # ลบคอลัมน์ที่ชื่อ 'id'\n",
    "data.head() # แสดงผล dataframe 5 แถวแรก"
   ]
  },
  {
   "cell_type": "markdown",
   "metadata": {},
   "source": [
    "<h1 style=\"font-size: 18px;\">1.4 ดูความสัมพันธ์ของข้อมูล</h1>"
   ]
  },
  {
   "cell_type": "code",
   "execution_count": 7,
   "metadata": {},
   "outputs": [
    {
     "data": {
      "image/png": "[encoded data removed]",
      "text/plain": [
       "<Figure size 1000x800 with 2 Axes>"
      ]
     },
     "metadata": {},
     "output_type": "display_data"
    }
   ],
   "source": [
    "# สร้างกราฟ corelation ของแต่ละคอลัมน์ใน dataframe\n",
    "corr_matrix = data.corr()  # เรียกดู correlation ของแต่ละคอลัมน์ใน dataframe\n",
    "plt.figure(figsize=(10, 8)) # กำหนดขนาดของกราฟ\n",
    "sns.heatmap(corr_matrix, annot=True, cmap='coolwarm', fmt=\".2f\", linewidths=2) # สร้างกราฟ correlation matrix \n",
    "plt.title('Correlation Heatmap') # ตั้งชื่อกราฟ\n",
    "plt.show() # แสดงผล"
   ]
  },
  {
   "cell_type": "code",
   "execution_count": 8,
   "metadata": {},
   "outputs": [
    {
     "data": {
      "text/plain": [
       "Class              1.000000\n",
       "AspectRation       0.832563\n",
       "Eccentricity       0.788636\n",
       "MajorAxisLength   -0.147741\n",
       "Extent            -0.303440\n",
       "Perimeter         -0.533274\n",
       "EquivDiameter     -0.809361\n",
       "ConvexArea        -0.814214\n",
       "Area              -0.816589\n",
       "Roundness         -0.831759\n",
       "MinorAxisLength   -0.917766\n",
       "Name: Class, dtype: float64"
      ]
     },
     "execution_count": 8,
     "metadata": {},
     "output_type": "execute_result"
    }
   ],
   "source": [
    "data.corr().Class.sort_values(ascending=False) # แสดงผลคอลัมน์ที่มี correlation กับ 'Price' จากมากไปน้อย"
   ]
  },
  {
   "cell_type": "markdown",
   "metadata": {},
   "source": [
    "<h1 style=\"font-size: 18px;\">1.5 ดูการกระจายตัวของข้อมูล</h1>"
   ]
  },
  {
   "cell_type": "code",
   "execution_count": 9,
   "metadata": {},
   "outputs": [
    {
     "name": "stdout",
     "output_type": "stream",
     "text": [
      "1    9985\n",
      "0    8200\n",
      "Name: Class, dtype: int64\n"
     ]
    },
    {
     "data": {
      "image/png": "[encoded data removed]",
      "text/plain": [
       "<Figure size 600x400 with 1 Axes>"
      ]
     },
     "metadata": {},
     "output_type": "display_data"
    }
   ],
   "source": [
    "# แสดงจำนวนของแต่ละคลาสในคอลัมน์ 'Class'\n",
    "class_counts = data['Class'].value_counts()\n",
    "print(class_counts)\n",
    "\n",
    "# แสดงการกระจายตัวของคลาสในคอลัมน์ 'Class'\n",
    "plt.figure(figsize=(6, 4))\n",
    "sns.countplot(data=data, x='Class')\n",
    "plt.title('Distribution of Class')\n",
    "plt.xlabel('Class')\n",
    "plt.ylabel('Count')\n",
    "plt.show()"
   ]
  },
  {
   "cell_type": "markdown",
   "metadata": {},
   "source": [
    "<h1 style=\"font-size: 25px; font-weight: bold; font-family: Helvetica\">2. ปรับช่วงของข้อมูล (Feature Scaling)</h1>"
   ]
  },
  {
   "cell_type": "code",
   "execution_count": 10,
   "metadata": {},
   "outputs": [],
   "source": [
    "# นำเข้าไลบรารี sklearn.preprocessing เพื่อเรียกใช้ StandardScaler\n",
    "from sklearn.preprocessing import StandardScaler\n",
    "# นำฟังก์ชัน StandardScaler() เก็บไว้ในตัวแปร pre_process\n",
    "pre_process = StandardScaler()"
   ]
  },
  {
   "cell_type": "markdown",
   "metadata": {},
   "source": [
    "<h1 style=\"font-size: 18px;\">2.1 แบ่งข้อมูลเป็นส่วน Features และ Label</h1>"
   ]
  },
  {
   "cell_type": "code",
   "execution_count": 11,
   "metadata": {},
   "outputs": [],
   "source": [
    "# X เป็น Features\n",
    "X = data.drop('Class', axis=1)\n",
    "# y เป็น Label\n",
    "y = data['Class']"
   ]
  },
  {
   "cell_type": "markdown",
   "metadata": {},
   "source": [
    "<h1 style=\"font-size: 18px;\">2.2 ทำการ Standardize ข้อมูลส่วน Features</h1>"
   ]
  },
  {
   "cell_type": "code",
   "execution_count": 12,
   "metadata": {},
   "outputs": [
    {
     "data": {
      "text/html": [
       "<div>\n",
       "<style scoped>\n",
       "    .dataframe tbody tr th:only-of-type {\n",
       "        vertical-align: middle;\n",
       "    }\n",
       "\n",
       "    .dataframe tbody tr th {\n",
       "        vertical-align: top;\n",
       "    }\n",
       "\n",
       "    .dataframe thead th {\n",
       "        text-align: right;\n",
       "    }\n",
       "</style>\n",
       "<table border=\"1\" class=\"dataframe\">\n",
       "  <thead>\n",
       "    <tr style=\"text-align: right;\">\n",
       "      <th></th>\n",
       "      <th>0</th>\n",
       "      <th>1</th>\n",
       "      <th>2</th>\n",
       "      <th>3</th>\n",
       "      <th>4</th>\n",
       "      <th>5</th>\n",
       "      <th>6</th>\n",
       "      <th>7</th>\n",
       "      <th>8</th>\n",
       "      <th>9</th>\n",
       "    </tr>\n",
       "  </thead>\n",
       "  <tbody>\n",
       "    <tr>\n",
       "      <th>0</th>\n",
       "      <td>-1.703630</td>\n",
       "      <td>-4.803744</td>\n",
       "      <td>0.417927</td>\n",
       "      <td>-6.393938</td>\n",
       "      <td>-1.696989</td>\n",
       "      <td>-1.830049</td>\n",
       "      <td>0.391654</td>\n",
       "      <td>-2.661778</td>\n",
       "      <td>0.839588</td>\n",
       "      <td>-2.663800</td>\n",
       "    </tr>\n",
       "    <tr>\n",
       "      <th>1</th>\n",
       "      <td>-2.838478</td>\n",
       "      <td>-6.220789</td>\n",
       "      <td>-0.835611</td>\n",
       "      <td>-6.209583</td>\n",
       "      <td>-2.803539</td>\n",
       "      <td>-3.398143</td>\n",
       "      <td>0.923070</td>\n",
       "      <td>-4.857318</td>\n",
       "      <td>1.837215</td>\n",
       "      <td>-2.635418</td>\n",
       "    </tr>\n",
       "    <tr>\n",
       "      <th>2</th>\n",
       "      <td>-2.718519</td>\n",
       "      <td>-6.091404</td>\n",
       "      <td>-0.771700</td>\n",
       "      <td>-6.024520</td>\n",
       "      <td>-2.725641</td>\n",
       "      <td>-3.213879</td>\n",
       "      <td>1.365122</td>\n",
       "      <td>-4.799860</td>\n",
       "      <td>2.383587</td>\n",
       "      <td>-2.605950</td>\n",
       "    </tr>\n",
       "    <tr>\n",
       "      <th>3</th>\n",
       "      <td>-2.701479</td>\n",
       "      <td>-6.031573</td>\n",
       "      <td>-0.783130</td>\n",
       "      <td>-5.781578</td>\n",
       "      <td>-2.708996</td>\n",
       "      <td>-3.188141</td>\n",
       "      <td>1.598635</td>\n",
       "      <td>-4.777995</td>\n",
       "      <td>2.409877</td>\n",
       "      <td>-2.565690</td>\n",
       "    </tr>\n",
       "    <tr>\n",
       "      <th>4</th>\n",
       "      <td>-2.278893</td>\n",
       "      <td>-5.377799</td>\n",
       "      <td>-0.341288</td>\n",
       "      <td>-5.433479</td>\n",
       "      <td>-2.279559</td>\n",
       "      <td>-2.580390</td>\n",
       "      <td>1.463045</td>\n",
       "      <td>-4.111042</td>\n",
       "      <td>2.477331</td>\n",
       "      <td>-2.504645</td>\n",
       "    </tr>\n",
       "  </tbody>\n",
       "</table>\n",
       "</div>"
      ],
      "text/plain": [
       "          0         1         2         3         4         5         6  \\\n",
       "0 -1.703630 -4.803744  0.417927 -6.393938 -1.696989 -1.830049  0.391654   \n",
       "1 -2.838478 -6.220789 -0.835611 -6.209583 -2.803539 -3.398143  0.923070   \n",
       "2 -2.718519 -6.091404 -0.771700 -6.024520 -2.725641 -3.213879  1.365122   \n",
       "3 -2.701479 -6.031573 -0.783130 -5.781578 -2.708996 -3.188141  1.598635   \n",
       "4 -2.278893 -5.377799 -0.341288 -5.433479 -2.279559 -2.580390  1.463045   \n",
       "\n",
       "          7         8         9  \n",
       "0 -2.661778  0.839588 -2.663800  \n",
       "1 -4.857318  1.837215 -2.635418  \n",
       "2 -4.799860  2.383587 -2.605950  \n",
       "3 -4.777995  2.409877 -2.565690  \n",
       "4 -4.111042  2.477331 -2.504645  "
      ]
     },
     "execution_count": 12,
     "metadata": {},
     "output_type": "execute_result"
    }
   ],
   "source": [
    "X = pd.DataFrame(pre_process.fit_transform(X)) # ปรับช่วงของ Features ทั้งหมด\n",
    "X.head() # แสดงผล dataframe 5 แถวแรก"
   ]
  },
  {
   "cell_type": "code",
   "execution_count": 13,
   "metadata": {},
   "outputs": [
    {
     "name": "stdout",
     "output_type": "stream",
     "text": [
      "<class 'pandas.core.frame.DataFrame'>\n",
      "<class 'pandas.core.series.Series'>\n"
     ]
    }
   ],
   "source": [
    "print(type(X)) ; print(type(y)) # แสดง type ของ X และ y ในตอนนี้"
   ]
  },
  {
   "cell_type": "code",
   "execution_count": 14,
   "metadata": {},
   "outputs": [
    {
     "name": "stdout",
     "output_type": "stream",
     "text": [
      "<class 'numpy.ndarray'>\n",
      "<class 'numpy.ndarray'>\n"
     ]
    }
   ],
   "source": [
    "X = np.array(X)  # เปลี่ยน type ของ X ให้เป็น array\n",
    "y = np.array(y)  # เปลี่ยน type ของ y ให้เป็น array\n",
    "print(type(X)) ; print(type(y)) # แสดง type ของ X และ y ในตอนนี้"
   ]
  },
  {
   "cell_type": "markdown",
   "metadata": {},
   "source": [
    "<h1 style=\"font-size: 25px; font-weight: bold; font-family: Helvetica\">3. แบ่งส่วนข้อมูล (Train-Test Split)</h1>"
   ]
  },
  {
   "cell_type": "code",
   "execution_count": 15,
   "metadata": {},
   "outputs": [],
   "source": [
    "# นำเข้าไลบรารี sklearn.model_selection เพื่อเรียกใช้ train_test_split\n",
    "from sklearn.model_selection import train_test_split"
   ]
  },
  {
   "cell_type": "code",
   "execution_count": 16,
   "metadata": {},
   "outputs": [],
   "source": [
    "# แบ่งส่วนข้อมูล X เป็น X_train, X_test และ y เป็น y_train, y_test โดยมีอัตราส่วนแบ่งเป็น 0.7:0.3\n",
    "X_train, X_test, y_train, y_test = train_test_split(X, y, train_size=0.7, random_state=42, stratify=y)"
   ]
  },
  {
   "cell_type": "code",
   "execution_count": 17,
   "metadata": {},
   "outputs": [
    {
     "name": "stdout",
     "output_type": "stream",
     "text": [
      "length of X_train: 12729 , length of X_test: 5456\n"
     ]
    }
   ],
   "source": [
    "print('length of X_train:',len(X_train),', length of X_test:', len(X_test)) # แสดงจำนวนข้อมูลใน X_train และ X_test"
   ]
  },
  {
   "cell_type": "code",
   "execution_count": 18,
   "metadata": {},
   "outputs": [
    {
     "name": "stdout",
     "output_type": "stream",
     "text": [
      "shape of X_train: (12729, 10)\n",
      "shape of X_test: (5456, 10)\n",
      "shape of y_train: (12729,)\n",
      "shape of y_test: (5456,)\n"
     ]
    }
   ],
   "source": [
    "# หรืออีกวิธีหนึ่ง เราสามารถดู shape ของข้อมูลที่เราแบ่งได้ โดยใช้คำสั่ง .shape \n",
    "print('shape of X_train:', X_train.shape)   # ดู shape ของ X_train\n",
    "print('shape of X_test:', X_test.shape)     # ดู shape ของ X_test\n",
    "print('shape of y_train:', y_train.shape)   # ดู shape ของ y_train\n",
    "print('shape of y_test:', y_test.shape)     # ดู shape ของ y_test"
   ]
  },
  {
   "cell_type": "markdown",
   "metadata": {},
   "source": [
    "<h1 style=\"font-size: 25px; font-weight: bold; font-family: Helvetica\">4. Neural Networks Model from scratch (1 layer)</h1>"
   ]
  },
  {
   "cell_type": "code",
   "execution_count": 19,
   "metadata": {},
   "outputs": [],
   "source": [
    "class NeuralNetwork:\n",
    "    def __init__(self, input_size, hidden_size):\n",
    "        # เราจะสุ่มค่า weights และ bias ตอนแรกเริ่ม\n",
    "        self.W1 = np.random.randn(input_size, hidden_size) * 0.01\n",
    "        self.b1 = np.zeros((1, hidden_size))\n",
    "        self.W2 = np.random.randn(hidden_size, 1) * 0.01\n",
    "        self.b2 = np.zeros((1, 1))\n",
    "    \n",
    "    @staticmethod\n",
    "    def sigmoid(z):  # ฟังก์ชัน Sigmoid\n",
    "        return 1 / (1 + np.exp(-z))\n",
    "    \n",
    "    @staticmethod    # อนุพันธ์ของฟังก์ชัน Sigmoid\n",
    "    def sigmoid_derivative(z):\n",
    "        s = 1 / (1 + np.exp(-z))\n",
    "        return s * (1 - s)\n",
    "    \n",
    "    def forward_propagation(self, X): # การทำ Forward Propagation\n",
    "        self.Z1 = np.dot(X, self.W1) + self.b1\n",
    "        self.A1 = self.sigmoid(self.Z1)\n",
    "        self.Z2 = np.dot(self.A1, self.W2) + self.b2\n",
    "        self.A2 = self.sigmoid(self.Z2)\n",
    "        return self.A2\n",
    "    \n",
    "    def compute_cost(self, y): # คำนวณค่า Cost\n",
    "        m = y.shape[0]\n",
    "        cost = -np.mean(y * np.log(self.A2) + (1 - y) * np.log(1 - self.A2))\n",
    "        return cost\n",
    "    \n",
    "    def backward_propagation(self, X, y): # การทำ Backward Propagation\n",
    "        m = X.shape[0]\n",
    "\n",
    "        self.dZ2 = self.A2 - y\n",
    "        self.dW2 = np.dot(self.A1.T, self.dZ2) / m\n",
    "        self.db2 = np.sum(self.dZ2, axis=0, keepdims=True) / m\n",
    "\n",
    "        self.dZ1 = np.dot(self.dZ2, self.W2.T) * self.sigmoid_derivative(self.Z1)\n",
    "        self.dW1 = np.dot(X.T, self.dZ1) / m\n",
    "        self.db1 = np.sum(self.dZ1, axis=0, keepdims=True) / m\n",
    "    \n",
    "    def update_parameters(self, learning_rate): # อัพเดท w และ b\n",
    "        self.W1 -= learning_rate * self.dW1\n",
    "        self.b1 -= learning_rate * self.db1\n",
    "        self.W2 -= learning_rate * self.dW2\n",
    "        self.b2 -= learning_rate * self.db2\n",
    "    \n",
    "    def train(self, X_train, y_train, X_test, y_test, epochs, learning_rate):\n",
    "        # เราอยากเก็บ training history ไว้ เพราะฉะนั้นจึงสร้างตัวแปร dictionary ชื่อ 'history' เพื่อเก็บค่าต่างๆระหว่างการ train ไว้\n",
    "        history = {\n",
    "            \"train_cost\": [],\n",
    "            \"train_accuracy\": [],\n",
    "            \"test_cost\": [],\n",
    "            \"test_accuracy\": []\n",
    "        }\n",
    "        \n",
    "        y_train_reshaped = y_train.reshape(-1, 1)\n",
    "        y_test_reshaped = y_test.reshape(-1, 1)\n",
    "        \n",
    "        for i in range(epochs):\n",
    "            # ทำ Forward และ Backward propagation กับ training data\n",
    "            self.forward_propagation(X_train)\n",
    "            train_cost = self.compute_cost(y_train_reshaped)\n",
    "            self.backward_propagation(X_train, y_train_reshaped)\n",
    "            self.update_parameters(learning_rate)\n",
    "\n",
    "            # คำนวณ training accuracy\n",
    "            train_accuracy = self.evaluate(X_train, y_train_reshaped)\n",
    "            \n",
    "            # คำนวณ test cost และ test accuracy\n",
    "            self.forward_propagation(X_test)\n",
    "            test_cost = self.compute_cost(y_test_reshaped)\n",
    "            test_accuracy = self.evaluate(X_test, y_test_reshaped)\n",
    "            \n",
    "            # เก็บค่าที่ได้ไว้ในตัวแปร history\n",
    "            history[\"train_cost\"].append(train_cost)\n",
    "            history[\"train_accuracy\"].append(train_accuracy)\n",
    "            history[\"test_cost\"].append(test_cost)\n",
    "            history[\"test_accuracy\"].append(test_accuracy)\n",
    "            \n",
    "            # แสดงผลว่าเทรนถึงรอบที่เท่าไรแล้ว\n",
    "            if i % 100 == 0 or i == epochs - 1:\n",
    "                print(f\"Epoch {i + 1} / {epochs}\")\n",
    "                print(f\"Train Cost: {train_cost}, Train Accuracy: {train_accuracy*100:.2f}%\")\n",
    "                print(f\"Test Cost: {test_cost}, Test Accuracy: {test_accuracy*100:.2f}%\")\n",
    "                print(\"-\"*50)\n",
    "                \n",
    "        return history\n",
    "    \n",
    "    def predict(self, X): # ทำนาย test data\n",
    "        predictions = self.forward_propagation(X)\n",
    "        return (predictions > 0.5).astype(int)\n",
    "    \n",
    "    def evaluate(self, X, y): # คำนวณค่า accuracy\n",
    "        predictions = self.predict(X)\n",
    "        accuracy = np.mean(predictions == y)\n",
    "        return accuracy"
   ]
  },
  {
   "cell_type": "code",
   "execution_count": 20,
   "metadata": {},
   "outputs": [
    {
     "name": "stdout",
     "output_type": "stream",
     "text": [
      "Epoch 1 / 1000\n",
      "Train Cost: 0.6941807549577118, Train Accuracy: 45.09%\n",
      "Test Cost: 0.6935147725157143, Test Accuracy: 45.09%\n",
      "--------------------------------------------------\n"
     ]
    },
    {
     "name": "stdout",
     "output_type": "stream",
     "text": [
      "Epoch 101 / 1000\n",
      "Train Cost: 0.6838432831996488, Train Accuracy: 54.91%\n",
      "Test Cost: 0.683707483369356, Test Accuracy: 54.91%\n",
      "--------------------------------------------------\n",
      "Epoch 201 / 1000\n",
      "Train Cost: 0.6494336198228323, Train Accuracy: 54.91%\n",
      "Test Cost: 0.6484252949545047, Test Accuracy: 54.91%\n",
      "--------------------------------------------------\n",
      "Epoch 301 / 1000\n",
      "Train Cost: 0.46553316789695265, Train Accuracy: 92.47%\n",
      "Test Cost: 0.46212635388901463, Test Accuracy: 92.32%\n",
      "--------------------------------------------------\n",
      "Epoch 401 / 1000\n",
      "Train Cost: 0.24117031862227842, Train Accuracy: 97.56%\n",
      "Test Cost: 0.23810636775002655, Test Accuracy: 97.76%\n",
      "--------------------------------------------------\n",
      "Epoch 501 / 1000\n",
      "Train Cost: 0.14483662938356748, Train Accuracy: 98.22%\n",
      "Test Cost: 0.14184263701070743, Test Accuracy: 98.39%\n",
      "--------------------------------------------------\n",
      "Epoch 601 / 1000\n",
      "Train Cost: 0.10500070892173273, Train Accuracy: 98.37%\n",
      "Test Cost: 0.10168035309322825, Test Accuracy: 98.64%\n",
      "--------------------------------------------------\n",
      "Epoch 701 / 1000\n",
      "Train Cost: 0.08524124958774451, Train Accuracy: 98.39%\n",
      "Test Cost: 0.08157210553215238, Test Accuracy: 98.75%\n",
      "--------------------------------------------------\n",
      "Epoch 801 / 1000\n",
      "Train Cost: 0.07394075641878914, Train Accuracy: 98.41%\n",
      "Test Cost: 0.06997056318492074, Test Accuracy: 98.79%\n",
      "--------------------------------------------------\n",
      "Epoch 901 / 1000\n",
      "Train Cost: 0.06679681755464557, Train Accuracy: 98.44%\n",
      "Test Cost: 0.06257632583307789, Test Accuracy: 98.77%\n",
      "--------------------------------------------------\n",
      "Epoch 1000 / 1000\n",
      "Train Cost: 0.061981377828433375, Train Accuracy: 98.44%\n",
      "Test Cost: 0.05755522168927369, Test Accuracy: 98.79%\n",
      "--------------------------------------------------\n",
      "Training accuracy: 98.44%\n",
      "Test accuracy: 98.79%\n"
     ]
    }
   ],
   "source": [
    "nn = NeuralNetwork(input_size=X_train.shape[1], hidden_size=15) # กำหนดค่าเริ่มต้น\n",
    "history = nn.train(X_train, y_train, X_test, y_test, epochs=1000, learning_rate=0.05) # เทรนโมเดล\n",
    "\n",
    "train_accuracy = nn.evaluate(X_train, y_train.reshape(-1, 1)) # คำนวณค่า train accuracy ตอนสุดท้าย\n",
    "test_accuracy = nn.evaluate(X_test, y_test.reshape(-1, 1)) # คำนวณค่า test accuracy ตอนสุดท้าย\n",
    "\n",
    "print(f\"Training accuracy: {train_accuracy * 100:.2f}%\") # แสดงผลค่า train accuracy ที่คำนวณได้\n",
    "print(f\"Test accuracy: {test_accuracy * 100:.2f}%\") # แสดงผลค่า test accuracy ที่คำนวณได้"
   ]
  },
  {
   "cell_type": "code",
   "execution_count": 21,
   "metadata": {},
   "outputs": [
    {
     "data": {
      "image/png": "[encoded data removed]",
      "text/plain": [
       "<Figure size 1200x500 with 2 Axes>"
      ]
     },
     "metadata": {},
     "output_type": "display_data"
    }
   ],
   "source": [
    "train_cost = history['train_cost'] \n",
    "train_accuracy = history['train_accuracy']\n",
    "test_cost = history['test_cost']\n",
    "test_accuracy = history['test_accuracy']\n",
    "\n",
    "# แสดงกราฟประวัติค่า cost ที่เกิดขึ้นระหว่างการเทรนโมเดล \n",
    "plt.figure(figsize=(12, 5))\n",
    "\n",
    "plt.subplot(1, 2, 1)\n",
    "plt.plot(train_cost, label='Training Cost')\n",
    "plt.plot(test_cost, label='Test Cost')\n",
    "plt.title('Cost over epochs')\n",
    "plt.xlabel('Epochs')\n",
    "plt.ylabel('Cost')\n",
    "plt.legend()\n",
    "\n",
    "# แสดงกราฟประวัติค่า accuracy ที่เกิดขึ้นระหว่างการเทรนโมเดล \n",
    "plt.subplot(1, 2, 2)\n",
    "plt.plot(train_accuracy, label='Training Accuracy')\n",
    "plt.plot(test_accuracy, label='Test Accuracy')\n",
    "plt.title('Accuracy over epochs')\n",
    "plt.xlabel('Epochs')\n",
    "plt.ylabel('Accuracy')\n",
    "plt.legend()\n",
    "plt.tight_layout()\n",
    "plt.show()"
   ]
  },
  {
   "cell_type": "code",
   "execution_count": 22,
   "metadata": {},
   "outputs": [
    {
     "name": "stdout",
     "output_type": "stream",
     "text": [
      "prediction is class: 0\n"
     ]
    }
   ],
   "source": [
    "predictions = nn.predict(X_test[28])\n",
    "print('prediction is class:', predictions[0][0])"
   ]
  },
  {
   "cell_type": "markdown",
   "metadata": {},
   "source": [
    "<h1 style=\"font-size: 25px; font-weight: bold; font-family: Helvetica\">5. การใช้ Neural Networks Model ด้วย Scikit-Learn Library</h1>"
   ]
  },
  {
   "cell_type": "code",
   "execution_count": 23,
   "metadata": {},
   "outputs": [],
   "source": [
    " # นำเข้าไลบรารี sklearn.neural_network เพื่อเรียกใช้ MLPClassifier\n",
    "from sklearn.neural_network import MLPClassifier"
   ]
  },
  {
   "cell_type": "markdown",
   "metadata": {},
   "source": [
    "<h1 style=\"font-size: 18px;\">5.1 สร้างโมเดล และ กำหนดการ compile ของโมเดล</h1>"
   ]
  },
  {
   "cell_type": "code",
   "execution_count": 24,
   "metadata": {},
   "outputs": [],
   "source": [
    "# สร้างโมเดล\n",
    "mlp = MLPClassifier(\n",
    "    hidden_layer_sizes=(64, 32, 16), # กำหนด Input layer, Hidden Layers\n",
    "    activation='relu',               # Activation function ที่จะใช้\n",
    "    solver='adam',                   # Optimizer ที่จะใช้\n",
    "    alpha=0.0001,                    # คือพารามิเตอร์ L2 penalty (regularization term\n",
    "    batch_size=32,                   # สำหรับ SGD Algotithm\n",
    "    max_iter=50,                     # จำนวนรอบการเทรน\n",
    "    verbose=True,                    # แสดงผลระหว่างเทรน\n",
    "    random_state=42                  # ควบคุมการทำผลซ้ำ\n",
    ")"
   ]
  },
  {
   "cell_type": "markdown",
   "metadata": {},
   "source": [
    "<h1 style=\"font-size: 18px;\">5.2 เทรนโมเดล</h1>"
   ]
  },
  {
   "cell_type": "code",
   "execution_count": 25,
   "metadata": {},
   "outputs": [
    {
     "name": "stdout",
     "output_type": "stream",
     "text": [
      "Iteration 1, loss = 0.08547221\n",
      "Iteration 2, loss = 0.03443003\n",
      "Iteration 3, loss = 0.03391904\n",
      "Iteration 4, loss = 0.03328007\n",
      "Iteration 5, loss = 0.03238244\n",
      "Iteration 6, loss = 0.03178834\n",
      "Iteration 7, loss = 0.03171181\n",
      "Iteration 8, loss = 0.03169699\n",
      "Iteration 9, loss = 0.03128206\n",
      "Iteration 10, loss = 0.03151062\n",
      "Iteration 11, loss = 0.03041643\n",
      "Iteration 12, loss = 0.03048641\n",
      "Iteration 13, loss = 0.03045925\n",
      "Iteration 14, loss = 0.03002470\n",
      "Iteration 15, loss = 0.03027431\n",
      "Iteration 16, loss = 0.03018347\n",
      "Iteration 17, loss = 0.02941624\n",
      "Iteration 18, loss = 0.02986222\n",
      "Iteration 19, loss = 0.02932123\n",
      "Iteration 20, loss = 0.02903770\n",
      "Iteration 21, loss = 0.02989663\n",
      "Iteration 22, loss = 0.02935881\n",
      "Iteration 23, loss = 0.02861497\n",
      "Iteration 24, loss = 0.02902082\n",
      "Iteration 25, loss = 0.02848671\n",
      "Iteration 26, loss = 0.02931791\n",
      "Iteration 27, loss = 0.02922898\n",
      "Iteration 28, loss = 0.02817995\n",
      "Iteration 29, loss = 0.02843261\n",
      "Iteration 30, loss = 0.02860677\n",
      "Iteration 31, loss = 0.02848972\n",
      "Iteration 32, loss = 0.02809964\n",
      "Iteration 33, loss = 0.02822744\n",
      "Iteration 34, loss = 0.02812491\n",
      "Iteration 35, loss = 0.02799268\n",
      "Iteration 36, loss = 0.02772910\n",
      "Iteration 37, loss = 0.02805889\n",
      "Iteration 38, loss = 0.02809717\n",
      "Iteration 39, loss = 0.02774782\n",
      "Iteration 40, loss = 0.02734705\n",
      "Iteration 41, loss = 0.02732754\n",
      "Iteration 42, loss = 0.02660516\n",
      "Iteration 43, loss = 0.02696074\n",
      "Iteration 44, loss = 0.02705440\n",
      "Iteration 45, loss = 0.02751283\n",
      "Iteration 46, loss = 0.02690198\n",
      "Iteration 47, loss = 0.02689414\n",
      "Iteration 48, loss = 0.02712994\n",
      "Iteration 49, loss = 0.02678619\n",
      "Iteration 50, loss = 0.02700300\n"
     ]
    },
    {
     "name": "stderr",
     "output_type": "stream",
     "text": [
      "c:\\Users\\makor\\AppData\\Local\\Programs\\Python\\Python311\\Lib\\site-packages\\sklearn\\neural_network\\_multilayer_perceptron.py:686: ConvergenceWarning: Stochastic Optimizer: Maximum iterations (50) reached and the optimization hasn't converged yet.\n",
      "  warnings.warn(\n"
     ]
    },
    {
     "data": {
      "text/html": [
       "<style>#sk-container-id-1 {color: black;background-color: white;}#sk-container-id-1 pre{padding: 0;}#sk-container-id-1 div.sk-toggleable {background-color: white;}#sk-container-id-1 label.sk-toggleable__label {cursor: pointer;display: block;width: 100%;margin-bottom: 0;padding: 0.3em;box-sizing: border-box;text-align: center;}#sk-container-id-1 label.sk-toggleable__label-arrow:before {content: \"▸\";float: left;margin-right: 0.25em;color: #696969;}#sk-container-id-1 label.sk-toggleable__label-arrow:hover:before {color: black;}#sk-container-id-1 div.sk-estimator:hover label.sk-toggleable__label-arrow:before {color: black;}#sk-container-id-1 div.sk-toggleable__content {max-height: 0;max-width: 0;overflow: hidden;text-align: left;background-color: #f0f8ff;}#sk-container-id-1 div.sk-toggleable__content pre {margin: 0.2em;color: black;border-radius: 0.25em;background-color: #f0f8ff;}#sk-container-id-1 input.sk-toggleable__control:checked~div.sk-toggleable__content {max-height: 200px;max-width: 100%;overflow: auto;}#sk-container-id-1 input.sk-toggleable__control:checked~label.sk-toggleable__label-arrow:before {content: \"▾\";}#sk-container-id-1 div.sk-estimator input.sk-toggleable__control:checked~label.sk-toggleable__label {background-color: #d4ebff;}#sk-container-id-1 div.sk-label input.sk-toggleable__control:checked~label.sk-toggleable__label {background-color: #d4ebff;}#sk-container-id-1 input.sk-hidden--visually {border: 0;clip: rect(1px 1px 1px 1px);clip: rect(1px, 1px, 1px, 1px);height: 1px;margin: -1px;overflow: hidden;padding: 0;position: absolute;width: 1px;}#sk-container-id-1 div.sk-estimator {font-family: monospace;background-color: #f0f8ff;border: 1px dotted black;border-radius: 0.25em;box-sizing: border-box;margin-bottom: 0.5em;}#sk-container-id-1 div.sk-estimator:hover {background-color: #d4ebff;}#sk-container-id-1 div.sk-parallel-item::after {content: \"\";width: 100%;border-bottom: 1px solid gray;flex-grow: 1;}#sk-container-id-1 div.sk-label:hover label.sk-toggleable__label {background-color: #d4ebff;}#sk-container-id-1 div.sk-serial::before {content: \"\";position: absolute;border-left: 1px solid gray;box-sizing: border-box;top: 0;bottom: 0;left: 50%;z-index: 0;}#sk-container-id-1 div.sk-serial {display: flex;flex-direction: column;align-items: center;background-color: white;padding-right: 0.2em;padding-left: 0.2em;position: relative;}#sk-container-id-1 div.sk-item {position: relative;z-index: 1;}#sk-container-id-1 div.sk-parallel {display: flex;align-items: stretch;justify-content: center;background-color: white;position: relative;}#sk-container-id-1 div.sk-item::before, #sk-container-id-1 div.sk-parallel-item::before {content: \"\";position: absolute;border-left: 1px solid gray;box-sizing: border-box;top: 0;bottom: 0;left: 50%;z-index: -1;}#sk-container-id-1 div.sk-parallel-item {display: flex;flex-direction: column;z-index: 1;position: relative;background-color: white;}#sk-container-id-1 div.sk-parallel-item:first-child::after {align-self: flex-end;width: 50%;}#sk-container-id-1 div.sk-parallel-item:last-child::after {align-self: flex-start;width: 50%;}#sk-container-id-1 div.sk-parallel-item:only-child::after {width: 0;}#sk-container-id-1 div.sk-dashed-wrapped {border: 1px dashed gray;margin: 0 0.4em 0.5em 0.4em;box-sizing: border-box;padding-bottom: 0.4em;background-color: white;}#sk-container-id-1 div.sk-label label {font-family: monospace;font-weight: bold;display: inline-block;line-height: 1.2em;}#sk-container-id-1 div.sk-label-container {text-align: center;}#sk-container-id-1 div.sk-container {/* jupyter's `normalize.less` sets `[hidden] { display: none; }` but bootstrap.min.css set `[hidden] { display: none !important; }` so we also need the `!important` here to be able to override the default hidden behavior on the sphinx rendered scikit-learn.org. See: https://github.com/scikit-learn/scikit-learn/issues/21755 */display: inline-block !important;position: relative;}#sk-container-id-1 div.sk-text-repr-fallback {display: none;}</style><div id=\"sk-container-id-1\" class=\"sk-top-container\"><div class=\"sk-text-repr-fallback\"><pre>MLPClassifier(batch_size=32, hidden_layer_sizes=(64, 32, 16), max_iter=50,\n",
       "              random_state=42, verbose=True)</pre><b>In a Jupyter environment, please rerun this cell to show the HTML representation or trust the notebook. <br />On GitHub, the HTML representation is unable to render, please try loading this page with nbviewer.org.</b></div><div class=\"sk-container\" hidden><div class=\"sk-item\"><div class=\"sk-estimator sk-toggleable\"><input class=\"sk-toggleable__control sk-hidden--visually\" id=\"sk-estimator-id-1\" type=\"checkbox\" checked><label for=\"sk-estimator-id-1\" class=\"sk-toggleable__label sk-toggleable__label-arrow\">MLPClassifier</label><div class=\"sk-toggleable__content\"><pre>MLPClassifier(batch_size=32, hidden_layer_sizes=(64, 32, 16), max_iter=50,\n",
       "              random_state=42, verbose=True)</pre></div></div></div></div></div>"
      ],
      "text/plain": [
       "MLPClassifier(batch_size=32, hidden_layer_sizes=(64, 32, 16), max_iter=50,\n",
       "              random_state=42, verbose=True)"
      ]
     },
     "execution_count": 25,
     "metadata": {},
     "output_type": "execute_result"
    }
   ],
   "source": [
    "# Train the model\n",
    "mlp.fit(X_train, y_train)"
   ]
  },
  {
   "cell_type": "markdown",
   "metadata": {},
   "source": [
    "<h1 style=\"font-size: 18px;\">5.3 ใช้โมเดลที่เทรนแล้ว ทำนายข้อมูล unseen data อย่าง X_test</h1>"
   ]
  },
  {
   "cell_type": "code",
   "execution_count": 26,
   "metadata": {},
   "outputs": [],
   "source": [
    "y_pred_mlp = mlp.predict(X_test)\n",
    "y_proba = mlp.predict_proba(X_test)"
   ]
  },
  {
   "cell_type": "code",
   "execution_count": 27,
   "metadata": {},
   "outputs": [
    {
     "data": {
      "text/plain": [
       "array([1, 0, 0, ..., 1, 1, 1], dtype=int64)"
      ]
     },
     "execution_count": 27,
     "metadata": {},
     "output_type": "execute_result"
    }
   ],
   "source": [
    "y_pred_mlp"
   ]
  },
  {
   "cell_type": "code",
   "execution_count": 28,
   "metadata": {},
   "outputs": [
    {
     "data": {
      "text/plain": [
       "array([[2.21594364e-04, 9.99778406e-01],\n",
       "       [1.00000000e+00, 2.97713772e-14],\n",
       "       [9.99999998e-01, 1.87238773e-09],\n",
       "       ...,\n",
       "       [1.22901843e-03, 9.98770982e-01],\n",
       "       [1.13789116e-05, 9.99988621e-01],\n",
       "       [5.27359434e-04, 9.99472641e-01]])"
      ]
     },
     "execution_count": 28,
     "metadata": {},
     "output_type": "execute_result"
    }
   ],
   "source": [
    "y_proba"
   ]
  },
  {
   "cell_type": "code",
   "execution_count": 29,
   "metadata": {},
   "outputs": [
    {
     "data": {
      "text/plain": [
       "array([[0., 1.],\n",
       "       [1., 0.],\n",
       "       [1., 0.],\n",
       "       ...,\n",
       "       [0., 1.],\n",
       "       [0., 1.],\n",
       "       [0., 1.]])"
      ]
     },
     "execution_count": 29,
     "metadata": {},
     "output_type": "execute_result"
    }
   ],
   "source": [
    "y_proba.round(2)"
   ]
  },
  {
   "cell_type": "code",
   "execution_count": 30,
   "metadata": {},
   "outputs": [
    {
     "data": {
      "text/plain": [
       "array([1, 0, 0, ..., 1, 1, 1], dtype=int64)"
      ]
     },
     "execution_count": 30,
     "metadata": {},
     "output_type": "execute_result"
    }
   ],
   "source": [
    "y_proba = np.argmax(y_proba, axis=1)\n",
    "y_proba"
   ]
  },
  {
   "cell_type": "markdown",
   "metadata": {},
   "source": [
    "<h1 style=\"font-size: 25px; font-weight: bold; font-family: Helvetica\">6. การใช้ Neural Networks Model ด้วย Tensorflow-Keras</h1>"
   ]
  },
  {
   "cell_type": "code",
   "execution_count": 31,
   "metadata": {},
   "outputs": [],
   "source": [
    "from tensorflow.keras.models import Sequential      # นำเข้าไลบรารี tensorflow.keras.models เพื่อเรียกใช้ Sequential\n",
    "from tensorflow.keras.layers import Dense, Dropout  # นำเข้าไลบรารี tensorflow.keras.layers เพื่อเรียกใช้ Dense, Dropout"
   ]
  },
  {
   "cell_type": "markdown",
   "metadata": {},
   "source": [
    "<h1 style=\"font-size: 18px;\">6.1 สร้างโมเดล</h1>"
   ]
  },
  {
   "cell_type": "code",
   "execution_count": 32,
   "metadata": {},
   "outputs": [],
   "source": [
    "# สร้างโมเดล\n",
    "model = Sequential()\n",
    "\n",
    "# เพิ่ม layer แรก เรียกว่า Input layer\n",
    "model.add(Dense(64, activation='relu', input_shape=(X_train.shape[1],)))\n",
    " \n",
    "# เพิ่ม Hidden layers อื่นๆ\n",
    "model.add(Dropout(0.5))\n",
    "model.add(Dense(32, activation='relu'))\n",
    "model.add(Dropout(0.5))\n",
    "model.add(Dense(16, activation='relu'))\n",
    "\n",
    "# เพิ่ม layer สุดท้าย เรียกว่า output layer\n",
    "model.add(Dense(1, activation='sigmoid'))"
   ]
  },
  {
   "cell_type": "markdown",
   "metadata": {},
   "source": [
    "<h1 style=\"font-size: 18px;\">6.2 กำหนดการ compile ของโมเดล และเทรนโมเดล</h1>"
   ]
  },
  {
   "cell_type": "code",
   "execution_count": 33,
   "metadata": {},
   "outputs": [],
   "source": [
    "# กำหนดการ compile ของโมเดล\n",
    "model.compile(optimizer='adam', loss='binary_crossentropy', metrics=['accuracy'])"
   ]
  },
  {
   "cell_type": "code",
   "execution_count": 34,
   "metadata": {},
   "outputs": [
    {
     "name": "stdout",
     "output_type": "stream",
     "text": [
      "Model: \"sequential\"\n",
      "_________________________________________________________________\n",
      " Layer (type)                Output Shape              Param #   \n",
      "=================================================================\n",
      " dense (Dense)               (None, 64)                704       \n",
      "                                                                 \n",
      " dropout (Dropout)           (None, 64)                0         \n",
      "                                                                 \n",
      " dense_1 (Dense)             (None, 32)                2080      \n",
      "                                                                 \n",
      " dropout_1 (Dropout)         (None, 32)                0         \n",
      "                                                                 \n",
      " dense_2 (Dense)             (None, 16)                528       \n",
      "                                                                 \n",
      " dense_3 (Dense)             (None, 1)                 17        \n",
      "                                                                 \n",
      "=================================================================\n",
      "Total params: 3,329\n",
      "Trainable params: 3,329\n",
      "Non-trainable params: 0\n",
      "_________________________________________________________________\n"
     ]
    }
   ],
   "source": [
    "# ดูภาพรวมของโครงสร้างโมเดล\n",
    "model.summary()"
   ]
  },
  {
   "cell_type": "code",
   "execution_count": 35,
   "metadata": {},
   "outputs": [
    {
     "name": "stdout",
     "output_type": "stream",
     "text": [
      "Epoch 1/50\n",
      "319/319 [==============================] - 2s 3ms/step - loss: 0.1465 - accuracy: 0.9526 - val_loss: 0.0500 - val_accuracy: 0.9811\n",
      "Epoch 2/50\n",
      "319/319 [==============================] - 1s 2ms/step - loss: 0.0471 - accuracy: 0.9859 - val_loss: 0.0473 - val_accuracy: 0.9811\n",
      "Epoch 3/50\n",
      "319/319 [==============================] - 1s 2ms/step - loss: 0.0444 - accuracy: 0.9870 - val_loss: 0.0475 - val_accuracy: 0.9835\n",
      "Epoch 4/50\n",
      "319/319 [==============================] - 1s 2ms/step - loss: 0.0404 - accuracy: 0.9888 - val_loss: 0.0462 - val_accuracy: 0.9835\n",
      "Epoch 5/50\n",
      "319/319 [==============================] - 1s 2ms/step - loss: 0.0409 - accuracy: 0.9880 - val_loss: 0.0462 - val_accuracy: 0.9835\n",
      "Epoch 6/50\n",
      "319/319 [==============================] - 1s 2ms/step - loss: 0.0413 - accuracy: 0.9896 - val_loss: 0.0464 - val_accuracy: 0.9835\n",
      "Epoch 7/50\n",
      "319/319 [==============================] - 1s 2ms/step - loss: 0.0389 - accuracy: 0.9885 - val_loss: 0.0456 - val_accuracy: 0.9847\n",
      "Epoch 8/50\n",
      "319/319 [==============================] - 1s 2ms/step - loss: 0.0383 - accuracy: 0.9891 - val_loss: 0.0457 - val_accuracy: 0.9847\n",
      "Epoch 9/50\n",
      "319/319 [==============================] - 1s 2ms/step - loss: 0.0361 - accuracy: 0.9892 - val_loss: 0.0471 - val_accuracy: 0.9843\n",
      "Epoch 10/50\n",
      "319/319 [==============================] - 1s 2ms/step - loss: 0.0371 - accuracy: 0.9889 - val_loss: 0.0450 - val_accuracy: 0.9855\n",
      "Epoch 11/50\n",
      "319/319 [==============================] - 1s 2ms/step - loss: 0.0383 - accuracy: 0.9892 - val_loss: 0.0439 - val_accuracy: 0.9847\n",
      "Epoch 12/50\n",
      "319/319 [==============================] - 1s 2ms/step - loss: 0.0387 - accuracy: 0.9898 - val_loss: 0.0440 - val_accuracy: 0.9847\n",
      "Epoch 13/50\n",
      "319/319 [==============================] - 1s 2ms/step - loss: 0.0370 - accuracy: 0.9900 - val_loss: 0.0450 - val_accuracy: 0.9847\n",
      "Epoch 14/50\n",
      "319/319 [==============================] - 1s 2ms/step - loss: 0.0373 - accuracy: 0.9893 - val_loss: 0.0429 - val_accuracy: 0.9843\n",
      "Epoch 15/50\n",
      "319/319 [==============================] - 1s 2ms/step - loss: 0.0363 - accuracy: 0.9894 - val_loss: 0.0436 - val_accuracy: 0.9847\n",
      "Epoch 16/50\n",
      "319/319 [==============================] - 1s 2ms/step - loss: 0.0351 - accuracy: 0.9897 - val_loss: 0.0429 - val_accuracy: 0.9843\n",
      "Epoch 17/50\n",
      "319/319 [==============================] - 1s 2ms/step - loss: 0.0374 - accuracy: 0.9897 - val_loss: 0.0433 - val_accuracy: 0.9855\n",
      "Epoch 18/50\n",
      "319/319 [==============================] - 1s 2ms/step - loss: 0.0357 - accuracy: 0.9895 - val_loss: 0.0428 - val_accuracy: 0.9851\n",
      "Epoch 19/50\n",
      "319/319 [==============================] - 1s 2ms/step - loss: 0.0352 - accuracy: 0.9899 - val_loss: 0.0434 - val_accuracy: 0.9855\n",
      "Epoch 20/50\n",
      "319/319 [==============================] - 1s 2ms/step - loss: 0.0352 - accuracy: 0.9896 - val_loss: 0.0419 - val_accuracy: 0.9839\n",
      "Epoch 21/50\n",
      "319/319 [==============================] - 1s 2ms/step - loss: 0.0349 - accuracy: 0.9901 - val_loss: 0.0425 - val_accuracy: 0.9839\n",
      "Epoch 22/50\n",
      "319/319 [==============================] - 1s 2ms/step - loss: 0.0343 - accuracy: 0.9906 - val_loss: 0.0422 - val_accuracy: 0.9855\n",
      "Epoch 23/50\n",
      "319/319 [==============================] - 1s 2ms/step - loss: 0.0354 - accuracy: 0.9904 - val_loss: 0.0422 - val_accuracy: 0.9847\n",
      "Epoch 24/50\n",
      "319/319 [==============================] - 1s 2ms/step - loss: 0.0363 - accuracy: 0.9894 - val_loss: 0.0421 - val_accuracy: 0.9851\n",
      "Epoch 25/50\n",
      "319/319 [==============================] - 1s 2ms/step - loss: 0.0365 - accuracy: 0.9895 - val_loss: 0.0407 - val_accuracy: 0.9851\n",
      "Epoch 26/50\n",
      "319/319 [==============================] - 1s 2ms/step - loss: 0.0353 - accuracy: 0.9893 - val_loss: 0.0418 - val_accuracy: 0.9843\n",
      "Epoch 27/50\n",
      "319/319 [==============================] - 1s 2ms/step - loss: 0.0347 - accuracy: 0.9904 - val_loss: 0.0424 - val_accuracy: 0.9839\n",
      "Epoch 28/50\n",
      "319/319 [==============================] - 1s 2ms/step - loss: 0.0347 - accuracy: 0.9899 - val_loss: 0.0416 - val_accuracy: 0.9843\n",
      "Epoch 29/50\n",
      "319/319 [==============================] - 1s 2ms/step - loss: 0.0349 - accuracy: 0.9902 - val_loss: 0.0421 - val_accuracy: 0.9859\n",
      "Epoch 30/50\n",
      "319/319 [==============================] - 1s 2ms/step - loss: 0.0343 - accuracy: 0.9903 - val_loss: 0.0415 - val_accuracy: 0.9855\n",
      "Epoch 31/50\n",
      "319/319 [==============================] - 1s 2ms/step - loss: 0.0336 - accuracy: 0.9905 - val_loss: 0.0415 - val_accuracy: 0.9855\n",
      "Epoch 32/50\n",
      "319/319 [==============================] - 1s 2ms/step - loss: 0.0341 - accuracy: 0.9897 - val_loss: 0.0413 - val_accuracy: 0.9847\n",
      "Epoch 33/50\n",
      "319/319 [==============================] - 1s 2ms/step - loss: 0.0349 - accuracy: 0.9897 - val_loss: 0.0413 - val_accuracy: 0.9855\n",
      "Epoch 34/50\n",
      "319/319 [==============================] - 1s 2ms/step - loss: 0.0320 - accuracy: 0.9905 - val_loss: 0.0415 - val_accuracy: 0.9851\n",
      "Epoch 35/50\n",
      "319/319 [==============================] - 1s 2ms/step - loss: 0.0331 - accuracy: 0.9904 - val_loss: 0.0419 - val_accuracy: 0.9843\n",
      "Epoch 36/50\n",
      "319/319 [==============================] - 1s 2ms/step - loss: 0.0335 - accuracy: 0.9905 - val_loss: 0.0418 - val_accuracy: 0.9855\n",
      "Epoch 37/50\n",
      "319/319 [==============================] - 1s 2ms/step - loss: 0.0343 - accuracy: 0.9901 - val_loss: 0.0427 - val_accuracy: 0.9851\n",
      "Epoch 38/50\n",
      "319/319 [==============================] - 1s 2ms/step - loss: 0.0335 - accuracy: 0.9902 - val_loss: 0.0421 - val_accuracy: 0.9843\n",
      "Epoch 39/50\n",
      "319/319 [==============================] - 1s 2ms/step - loss: 0.0338 - accuracy: 0.9904 - val_loss: 0.0423 - val_accuracy: 0.9843\n",
      "Epoch 40/50\n",
      "319/319 [==============================] - 1s 2ms/step - loss: 0.0320 - accuracy: 0.9900 - val_loss: 0.0409 - val_accuracy: 0.9851\n",
      "Epoch 41/50\n",
      "319/319 [==============================] - 1s 2ms/step - loss: 0.0338 - accuracy: 0.9900 - val_loss: 0.0408 - val_accuracy: 0.9847\n",
      "Epoch 42/50\n",
      "319/319 [==============================] - 1s 2ms/step - loss: 0.0329 - accuracy: 0.9910 - val_loss: 0.0416 - val_accuracy: 0.9851\n",
      "Epoch 43/50\n",
      "319/319 [==============================] - 1s 2ms/step - loss: 0.0318 - accuracy: 0.9911 - val_loss: 0.0406 - val_accuracy: 0.9859\n",
      "Epoch 44/50\n",
      "319/319 [==============================] - 1s 2ms/step - loss: 0.0318 - accuracy: 0.9909 - val_loss: 0.0418 - val_accuracy: 0.9847\n",
      "Epoch 45/50\n",
      "319/319 [==============================] - 1s 2ms/step - loss: 0.0309 - accuracy: 0.9902 - val_loss: 0.0418 - val_accuracy: 0.9859\n",
      "Epoch 46/50\n",
      "319/319 [==============================] - 1s 2ms/step - loss: 0.0317 - accuracy: 0.9910 - val_loss: 0.0409 - val_accuracy: 0.9859\n",
      "Epoch 47/50\n",
      "319/319 [==============================] - 1s 2ms/step - loss: 0.0340 - accuracy: 0.9893 - val_loss: 0.0410 - val_accuracy: 0.9847\n",
      "Epoch 48/50\n",
      "319/319 [==============================] - 1s 2ms/step - loss: 0.0339 - accuracy: 0.9905 - val_loss: 0.0408 - val_accuracy: 0.9855\n",
      "Epoch 49/50\n",
      "319/319 [==============================] - 1s 2ms/step - loss: 0.0335 - accuracy: 0.9904 - val_loss: 0.0410 - val_accuracy: 0.9851\n",
      "Epoch 50/50\n",
      "319/319 [==============================] - 1s 2ms/step - loss: 0.0329 - accuracy: 0.9908 - val_loss: 0.0407 - val_accuracy: 0.9855\n"
     ]
    }
   ],
   "source": [
    "# เทรนโมเดล\n",
    "history = model.fit(X_train, y_train, epochs=50, batch_size=32, validation_split=0.2, verbose=1)"
   ]
  },
  {
   "cell_type": "code",
   "execution_count": 36,
   "metadata": {},
   "outputs": [
    {
     "data": {
      "image/png": "[encoded data removed]",
      "text/plain": [
       "<Figure size 1200x400 with 2 Axes>"
      ]
     },
     "metadata": {},
     "output_type": "display_data"
    }
   ],
   "source": [
    "plt.figure(figsize=(12, 4))\n",
    "\n",
    "# แสดงกราฟประวัติค่า accuracy ที่เกิดขึ้นระหว่างการเทรนโมเดล\n",
    "plt.subplot(1, 2, 1)\n",
    "plt.plot(history.history['accuracy'])\n",
    "plt.plot(history.history['val_accuracy'])\n",
    "plt.title('Model accuracy')\n",
    "plt.ylabel('Accuracy')\n",
    "plt.xlabel('Epoch')\n",
    "plt.legend(['Train', 'Validation'], loc='upper left')\n",
    "\n",
    "# แสดงกราฟประวัติค่า loss ที่เกิดขึ้นระหว่างการเทรนโมเดล\n",
    "plt.subplot(1, 2, 2)\n",
    "plt.plot(history.history['loss'])\n",
    "plt.plot(history.history['val_loss'])\n",
    "plt.title('Model loss')\n",
    "plt.ylabel('Loss')\n",
    "plt.xlabel('Epoch')\n",
    "plt.legend(['Train', 'Validation'], loc='upper left')\n",
    "\n",
    "plt.tight_layout()\n",
    "plt.show()"
   ]
  },
  {
   "cell_type": "markdown",
   "metadata": {},
   "source": [
    "<h1 style=\"font-size: 18px;\">6.4 ใช้โมเดลที่เทรนแล้ว ทำนายข้อมูล unseen data อย่าง X_test</h1>"
   ]
  },
  {
   "cell_type": "code",
   "execution_count": 37,
   "metadata": {},
   "outputs": [
    {
     "name": "stdout",
     "output_type": "stream",
     "text": [
      "171/171 [==============================] - 0s 912us/step\n",
      "[[9.9757278e-01]\n",
      " [5.3175877e-09]\n",
      " [1.1581860e-06]\n",
      " ...\n",
      " [9.9791253e-01]\n",
      " [9.9999923e-01]\n",
      " [9.9921530e-01]]\n"
     ]
    }
   ],
   "source": [
    "y_pred = model.predict(X_test) # ให้โมเดลทำนาย Class จาก Features ที่กำหนดให้\n",
    "print(y_pred)"
   ]
  },
  {
   "cell_type": "code",
   "execution_count": 38,
   "metadata": {},
   "outputs": [
    {
     "data": {
      "text/plain": [
       "array([[1],\n",
       "       [0],\n",
       "       [0],\n",
       "       ...,\n",
       "       [1],\n",
       "       [1],\n",
       "       [1]])"
      ]
     },
     "execution_count": 38,
     "metadata": {},
     "output_type": "execute_result"
    }
   ],
   "source": [
    "y_pred = (y_pred >= 0.5).astype(int) # ตั้ง Treshold ในการตัดสินใจว่าเป็นคลาสใด\n",
    "y_pred"
   ]
  },
  {
   "cell_type": "code",
   "execution_count": 39,
   "metadata": {},
   "outputs": [
    {
     "name": "stdout",
     "output_type": "stream",
     "text": [
      "y_pred: [1 0 0 ... 1 1 1]\n",
      "y_test: [1 0 0 ... 1 1 1]\n"
     ]
    }
   ],
   "source": [
    "y_pred = np.array(y_pred.flatten())  # ลด dimension ของ y_pred ให้เท่ากับ y_test\n",
    "\n",
    "print('y_pred:', y_pred)\n",
    "print('y_test:', y_test)"
   ]
  },
  {
   "cell_type": "markdown",
   "metadata": {},
   "source": [
    "<h1 style=\"font-size: 25px; font-weight: bold; font-family: Helvetica\">7. การวัดผลโมเดล (Model Evaluation)</h1>"
   ]
  },
  {
   "cell_type": "markdown",
   "metadata": {},
   "source": [
    "ในการวัดผลการทำ Binary-Classification Model เราต้องรู้จัก Confusion Matrix ก่อน"
   ]
  },
  {
   "cell_type": "code",
   "execution_count": 40,
   "metadata": {},
   "outputs": [],
   "source": [
    "from sklearn.metrics import confusion_matrix  # นำเข้าไลบรารี sklearn.metrics เพื่อเรียกใช้ confusion_matrix"
   ]
  },
  {
   "cell_type": "code",
   "execution_count": 41,
   "metadata": {},
   "outputs": [
    {
     "data": {
      "image/png": "[encoded data removed]",
      "text/plain": [
       "<Figure size 600x400 with 2 Axes>"
      ]
     },
     "metadata": {},
     "output_type": "display_data"
    }
   ],
   "source": [
    "# สร้าง confusion matrix\n",
    "conf_matrix_sample = confusion_matrix(y_test, y_pred)\n",
    "\n",
    "# แสดง confusion matrix โดยใช้ไลบรารี seaborn\n",
    "plt.figure(figsize=(6,4))\n",
    "sns.heatmap(conf_matrix_sample, annot=True, fmt=\"d\", cmap=\"Blues\",\n",
    "            xticklabels=[\"Predicted Positive\", \"Predicted Negative\"],\n",
    "            yticklabels=[\"Actual Positive\", \"Actual Negative\"])\n",
    "\n",
    "plt.title(\"Confusion Matrix\")\n",
    "plt.ylabel(\"Actual\")\n",
    "plt.xlabel(\"Predicted\")\n",
    "plt.show()"
   ]
  },
  {
   "cell_type": "markdown",
   "metadata": {},
   "source": [
    "จาก Confusion Matrix ด้านบน เราจึงได้ว่า\n",
    "<div style=\" border-radius: 5px; display: flex; align-items: center;\">\n",
    "<h1 style=\"margin: 0 auto; font-size: 18px; font-weight: bold;\">True Positive (TP) = 2432</h1>\n",
    "<h1 style=\"margin: 0 auto; font-size: 18px; font-weight: bold;\">False Positive (FP) = 23</h1>\n",
    "<h1 style=\"margin: 0 auto; font-size: 18px; font-weight: bold;\">False Negative (FN) = 28</h1>\n",
    "<h1 style=\"margin: 0 auto; font-size: 18px; font-weight: bold;\">True Negative (TN) = 2973</h1>\n",
    "</div>"
   ]
  },
  {
   "cell_type": "markdown",
   "metadata": {},
   "source": [
    "<h1 style=\"font-size: 18px; font-weight: bold;\">7.1 Accuracy - ค่าความแม่นยำ</h1>\n",
    "\n",
    "- ความแม่นยำ เป็นตัววัดประสิทธิภาพที่เข้าใจได้ง่ายที่สุด มันคืออัตราส่วนของการทำนายที่ถูกต้องต่อการทำนายทั้งหมด\n",
    "- สูตร:\n",
    "$$\\text{Accuracy} = \\frac{\\text{จำนวนการทำนายที่ถูกต้อง}}{\\text{จำนวนการทำนายทั้งหมด}}$$\n",
    "- หรือ:\n",
    "$$\\text{Accuracy} = \\frac{TP + TN}{TP + TN + FP + FN}$$\n",
    "\n",
    "<h1 style=\"font-size: 18px; font-weight: bold;\">7.2 Precision - ความแม่นยำของการทำนายคลาสบวก</h1>\n",
    "\n",
    "- Precision คืออัตราส่วนของการทำนายคลาสบวกที่ถูกต้องต่อการทำนายคลาสบวกทั้งหมด:\n",
    "- สูตร:\n",
    "$$\\text{Precision} = \\frac{\\text{TP}}{\\text{TP + FP}}$$\n",
    "\n",
    "<h1 style=\"font-size: 18px; font-weight: bold;\">7.3 Recall / Sensitivity - ความครอบคลุม</h1>\n",
    "\n",
    "- คืออัตราส่วนของการทำนายคลาสบวกที่ถูกต้องต่อคลาสบวกทั้งหมดในข้อมูลจริง:\n",
    "- สูตร:\n",
    "$$\\text{Recall} = \\frac{\\text{TP}}{\\text{TP + FN}}$$\n",
    "\n",
    "<h1 style=\"font-size: 18px; font-weight: bold;\">7.4 F1-Score - คะแนน F1 </h1>\n",
    "\n",
    "- เป็นค่าเฉลี่ยแบบ harmonic ระหว่างความแม่นยำของการทำนายคลาสบวกและความครอบคลุม\n",
    "- เป็นวิธีที่ดีในการแสดงประสิทธิภาพของโมเดลเมื่อข้อมูลบวกและข้อมูลลบมีจำนวนที่ไม่เท่ากัน:\n",
    "- สูตร:\n",
    "$$\\text{คะแนน F1} = 2 \\times \\frac{\\text{Precision} \\times \\text{Recall}}{\\text{Precision} + \\text{Recall}}$$\n",
    "\n",
    "<h1 style=\"font-size: 18px; font-weight: bold;\">7.5 Matthew Correlation Coefficient (MCC) - ค่าสหสัมพันธ์แมทธิว </h1>\n",
    "\n",
    "- คือค่าสหสัมพันธ์ระหว่างการทำนายและข้อมูลจริง ค่านี้จะอยู่ระหว่าง -1 และ 1 ซึ่งค่า 1 หมายถึงการทำนายที่ดีที่สุด ค่า -1 หมายถึงการทำนายที่แย่ที่สุด และค่า 0 หมายถึงการทำนายแบบสุ่ม:\n",
    "- สูตร:\n",
    "$$\\text{MCC} = \\frac{\\text{TP} \\times \\text{TN} - \\text{FP} \\times \\text{FN}}{\\sqrt{(\\text{TP} + \\text{FP})(\\text{TP} + \\text{FN})(\\text{TN} + \\text{FP})(\\text{TN} + \\text{FN})}}$$\n"
   ]
  },
  {
   "cell_type": "code",
   "execution_count": 42,
   "metadata": {},
   "outputs": [],
   "source": [
    "#นำเข้าไลบรารี sklearn.metrics เพื่อเรียกใช้ accuracy_score, precision_score, recall_score, f1_score, matthews_corrcoef\n",
    "from sklearn.metrics import accuracy_score, precision_score, recall_score, f1_score, matthews_corrcoef"
   ]
  },
  {
   "cell_type": "code",
   "execution_count": 43,
   "metadata": {},
   "outputs": [
    {
     "name": "stdout",
     "output_type": "stream",
     "text": [
      "ความแม่นยำ (Accuracy): 0.9908\n",
      "ความแม่นยำของการทำนายคลาสบวก (Precision): 0.9910\n",
      "ความครอบคลุม (Recall): 0.9923\n",
      "คะแนน F1 (F1-Score): 0.9917\n",
      "ค่าสหสัมพันธ์แมทธิว (MCC): 0.9815\n"
     ]
    }
   ],
   "source": [
    "# คำนวณผลของ metrics ต่างๆ\n",
    "accuracy = accuracy_score(y_test, y_pred)\n",
    "precision = precision_score(y_test, y_pred)\n",
    "recall = recall_score(y_test, y_pred)\n",
    "f1 = f1_score(y_test, y_pred)\n",
    "mcc = matthews_corrcoef(y_test, y_pred)\n",
    "\n",
    "# แสดงผล\n",
    "print(f\"ความแม่นยำ (Accuracy): {accuracy:.4f}\")\n",
    "print(f\"ความแม่นยำของการทำนายคลาสบวก (Precision): {precision:.4f}\")\n",
    "print(f\"ความครอบคลุม (Recall): {recall:.4f}\")\n",
    "print(f\"คะแนน F1 (F1-Score): {f1:.4f}\")\n",
    "print(f\"ค่าสหสัมพันธ์แมทธิว (MCC): {mcc:.4f}\")"
   ]
  },
  {
   "cell_type": "markdown",
   "metadata": {},
   "source": [
    "<h1 style=\"font-size: 18px; font-weight: bold;\">7.6 Classification Report</h1>"
   ]
  },
  {
   "cell_type": "code",
   "execution_count": 44,
   "metadata": {},
   "outputs": [],
   "source": [
    "from sklearn.metrics import classification_report # นำเข้าไลบรารี sklearn.metrics เพื่อเรียกใช้ classification_report"
   ]
  },
  {
   "cell_type": "code",
   "execution_count": 45,
   "metadata": {},
   "outputs": [
    {
     "name": "stdout",
     "output_type": "stream",
     "text": [
      "              precision    recall  f1-score   support\n",
      "\n",
      "           0       0.99      0.99      0.99      2460\n",
      "           1       0.99      0.99      0.99      2996\n",
      "\n",
      "    accuracy                           0.99      5456\n",
      "   macro avg       0.99      0.99      0.99      5456\n",
      "weighted avg       0.99      0.99      0.99      5456\n",
      "\n"
     ]
    }
   ],
   "source": [
    "# คำสั่งเรียกดู classification report\n",
    "report = classification_report(y_test, y_pred)\n",
    "# แสดงผล\n",
    "print(report)"
   ]
  }
 ],
 "metadata": {
  "kernelspec": {
   "display_name": "Python 3",
   "language": "python",
   "name": "python3"
  },
  "language_info": {
   "codemirror_mode": {
    "name": "ipython",
    "version": 3
   },
   "file_extension": ".py",
   "mimetype": "text/x-python",
   "name": "python",
   "nbconvert_exporter": "python",
   "pygments_lexer": "ipython3",
   "version": "3.11.4"
  },
  "orig_nbformat": 4
 },
 "nbformat": 4,
 "nbformat_minor": 2
}
